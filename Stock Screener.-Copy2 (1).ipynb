{
 "cells": [
  {
   "cell_type": "code",
   "execution_count": null,
   "id": "cf83c430",
   "metadata": {},
   "outputs": [],
   "source": [
    "import nsepy as nse\n",
    "from datetime import date\n",
    "from datetime import datetime# Python multi threading for decreasing time complexity\n",
    "import pandas as pd\n"
   ]
  },
  {
   "cell_type": "code",
   "execution_count": null,
   "id": "a18bb853",
   "metadata": {},
   "outputs": [],
   "source": [
    "csv = pd.read_csv(r\"C:\\Users\\yaswa\\Downloads\\EQUITY_L.csv\")"
   ]
  },
  {
   "cell_type": "code",
   "execution_count": null,
   "id": "25cb6594",
   "metadata": {},
   "outputs": [],
   "source": [
    "a = csv[\"SYMBOL\"]\n",
    "L = list(a)\n",
    "F =[]"
   ]
  },
  {
   "cell_type": "code",
   "execution_count": null,
   "id": "3aae053c",
   "metadata": {},
   "outputs": [],
   "source": [
    "for symbol in L:\n",
    "    stock_data = nse.get_history(symbol = symbol ,start = date(2022,12,1),end = date.today())\n",
    "    r = stock_data.tail(20) #For Intraday Change the tail to 5 or 3.\n",
    "    r[\"Quantity\"] = r[\"Close\"] * r[\"Volume\"]\n",
    "    i = r[\"Quantity\"].mean()\n",
    "    if i> 300000000:\n",
    "        r[\"ADR\"] = r['High']/r['Low']\n",
    "        k = (r[\"ADR\"].mean() - 1)*100\n",
    "        if k > 3.5:\n",
    "            F.append(symbol)\n"
   ]
  },
  {
   "cell_type": "code",
   "execution_count": null,
   "id": "cab664ac",
   "metadata": {},
   "outputs": [],
   "source": [
    "len(F)"
   ]
  },
  {
   "cell_type": "code",
   "execution_count": null,
   "id": "e786fa2c",
   "metadata": {},
   "outputs": [],
   "source": [
    "t[9]"
   ]
  },
  {
   "cell_type": "code",
   "execution_count": null,
   "id": "6f79b2b0",
   "metadata": {},
   "outputs": [],
   "source": [
    "len(t)"
   ]
  },
  {
   "cell_type": "code",
   "execution_count": null,
   "id": "3fea6ebf",
   "metadata": {},
   "outputs": [],
   "source": []
  }
 ],
 "metadata": {
  "kernelspec": {
   "display_name": "Python 3 (ipykernel)",
   "language": "python",
   "name": "python3"
  },
  "language_info": {
   "codemirror_mode": {
    "name": "ipython",
    "version": 3
   },
   "file_extension": ".py",
   "mimetype": "text/x-python",
   "name": "python",
   "nbconvert_exporter": "python",
   "pygments_lexer": "ipython3",
   "version": "3.9.12"
  }
 },
 "nbformat": 4,
 "nbformat_minor": 5
}
